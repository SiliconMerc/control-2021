{
 "cells": [
  {
   "cell_type": "markdown",
   "metadata": {},
   "source": [
    "### MD Muhaimin Rahman\n",
    "contact: sezan92@gmail.com\n"
   ]
  },
  {
   "cell_type": "markdown",
   "metadata": {},
   "source": [
    "# Introduction"
   ]
  },
  {
   "cell_type": "markdown",
   "metadata": {},
   "source": [
    "In this notebook, I am describing the implementation of Control Systems namely [PID](#pid_sec),[Fuzzy Logic](#fuzzy_sec) and [LQR](#lqr_sec) on our robot. The $pidcontrol.py$ file has been used for our project. I haven't written this library. I have downloaded from this github project.[1](#pid)"
   ]
  },
  {
   "cell_type": "markdown",
   "metadata": {},
   "source": [
    "#### Importing Libraris"
   ]
  },
  {
   "cell_type": "code",
   "execution_count": 1,
   "metadata": {},
   "outputs": [],
   "source": [
    "import sys\n",
    "import pidcontrol as pid\n",
    "import numpy as np\n",
    "import pybullet as p\n",
    "import math\n",
    "import time\n",
    "import pybullet_data\n",
    "import control \n",
    "import scipy"
   ]
  },
  {
   "cell_type": "markdown",
   "metadata": {},
   "source": [
    "\n",
    "# LQR Controller"
   ]
  },
  {
   "attachments": {
    "image.png": {
     "image/png": "[encoded data removed]"
    }
   },
   "cell_type": "markdown",
   "metadata": {},
   "source": [
    "Here, I am working on LQR controller. I have used control library [[3](#PythonControl)] of python to work on lqr. For the lqr controllers, the state-space equations of the system are required. For the Inverted pendulum , the equation will be the following\n",
    "![image.png](attachment:image.png)"
   ]
  },
  {
   "cell_type": "markdown",
   "metadata": {},
   "source": [
    "![system](LQR.png)"
   ]
  },
  {
   "cell_type": "markdown",
   "metadata": {},
   "source": [
    "The above equation is derived from [[4](#SystemEquation)] .Here, $m$ mass of the pendulum, $I$ is mass moment of Inertia , $M$ mass of Cart, $g$ gravitational acceleration, $\\phi$ yaw angle, $u$ is force and $x$ is the movement of the cart. we can simplify by writing , $\\dot{x} = Ax+Bu $, where A and B in our robot will be the following"
   ]
  },
  {
   "cell_type": "code",
   "execution_count": 2,
   "metadata": {},
   "outputs": [],
   "source": [
    "#(M)       mass of the cart                         0.5 kg\n",
    "#(m)       mass of the pendulum                     0.2 kg\n",
    "#(b)       coefficient of friction for cart         0.1 N/m/sec\n",
    "#(l)       length to pendulum center of mass        0.3 m\n",
    "#(I)       mass moment of inertia of the pendulum   0.006 kg.m^2\n",
    "#(F)       force applied to the cart\n",
    "#(x)       cart position coordinate\n",
    "#(theta)   pendulum angle from vertical (down)\n",
    "#x(t+1)=A*x(t)+B*u\n",
    "#x(t+1)=k*x(t)\n",
    "\n",
    "M = .5;\n",
    "m = 0.2;\n",
    "b = 0.1;\n",
    "I = 0.006;\n",
    "g = 9.8;\n",
    "l = 0.3;\n",
    "\n",
    "px = I*(M+m)+pow(M*m*l,2) #denominator for the A and B matrices\n",
    "\n",
    "A = np.array([[0,1],[m*g*l*(M+m)/px,0]])#considering theta and theta dot\n",
    "B = np.array([[  0.  ],\n",
    "       [ m*l/px]])"
   ]
  },
  {
   "cell_type": "markdown",
   "metadata": {},
   "source": [
    "From [[4](#SystemEquation)] , we get the cost function \\begin{equation}\n",
    "J = \\int (x^TQx +u^TRu)dt\n",
    "\\end{equation}\n"
   ]
  },
  {
   "cell_type": "markdown",
   "metadata": {},
   "source": [
    "Here, we need to tune Q matrix and R such that the value of $J$ is minimum."
   ]
  },
  {
   "cell_type": "markdown",
   "metadata": {},
   "source": [
    "Our topics for LQR"
   ]
  },
  {
   "cell_type": "markdown",
   "metadata": {},
   "source": [
    "Here, we will tune the values of Q and R using /Q and /R topic respectively."
   ]
  },
  {
   "cell_type": "markdown",
   "metadata": {},
   "source": [
    "The class for LQR"
   ]
  },
  {
   "cell_type": "code",
   "execution_count": 3,
   "metadata": {},
   "outputs": [],
   "source": [
    "Q = np.array([[ 100,   0],[  0, 1000]])\n",
    "R = 0.0001\n",
    "# K,S,e = lqr(A,B,Q,R)\n",
    "# print(K)\n",
    "# print(S)\n",
    "# print(e)"
   ]
  },
  {
   "cell_type": "code",
   "execution_count": 4,
   "metadata": {},
   "outputs": [],
   "source": [
    "class SelfBalanceLQR:\n",
    "    def __init__(self):\n",
    "        self.xvelMin=-.01# x velocity\n",
    "        self.xvelMax =0\n",
    "        self.yMin = -0.01#yaw\n",
    "        self.yMax = 0\n",
    "        self.y_ = 0\n",
    "        self.Q = np.array([[ 100,   0],[  0, 1000]])\n",
    "        self.R = 0.0001\n",
    "        self.K,self.S,self.e = control.lqr(A,B,self.Q,self.R)\n",
    "    def callback(self,data):\n",
    "        \n",
    "        vel = data[0][0]\n",
    "        y = data[1][1]*180/3.1416#theata changes along 1\n",
    "        \n",
    "        diff_yaw = y-self.y_\n",
    "        np_x = np.array([[y],[diff_yaw]])\n",
    "        \n",
    "        u_t=-np.matmul(self.K,np_x) \n",
    "        #print(np_x,self.K,u_t)\n",
    "        #print(np_x.shape,self.K.shape,u_t.shape,A.shape,B.shape)\n",
    "        xvel = (np.matmul(A,np_x)+np.matmul(B,u_t))[1]\n",
    "        #print(xvel)\n",
    "        \n",
    "        if y>self.yMax:\n",
    "            self.yMax = y\n",
    "        elif y<self.yMin:\n",
    "            self.yMin =y\n",
    "        if xvel>self.xvelMax:\n",
    "            self.xvelMax=xvel\n",
    "        elif xvel<self.xvelMin:\n",
    "            self.xvelMin = xvel\n",
    "            \n",
    "        linear_vel = [xvel,0,0]\n",
    "        angular_vel=[0,0,0]\n",
    "        #print(\"Max vel \" + str(self.xvelMax) + \" & Min vel \" + str(self.xvelMin) + \" Max y \" + str(self.yMax*180/3.1416) +\" & Min y\" + str(self.yMin*180/3.1416))\n",
    "        #print(\"Velocity \"+ str(xvel)+ \" & yaw \" + str(y))\n",
    "        self.y_ = y\n",
    "        \n",
    "        return xvel\n",
    "        \n",
    "    def callback_q(self,data):\n",
    "        q = data.data\n",
    "        self.Q = np.array([[ q,   0],[  0, 10*q]])\n",
    "        self.K,self.S,self.e = control.lqr(A,B,self.Q,self.R)\n",
    "        \n",
    "    def callback_r(self,data):\n",
    "        r = data.data\n",
    "        self.R = r\n",
    "        self.K,self.S,self.e = control.lqr(A,B,self.Q,self.R)\n"
   ]
  },
  {
   "cell_type": "code",
   "execution_count": 5,
   "metadata": {},
   "outputs": [
    {
     "data": {
      "text/plain": [
       "array([0.])"
      ]
     },
     "execution_count": 5,
     "metadata": {},
     "output_type": "execute_result"
    }
   ],
   "source": [
    "balance=SelfBalanceLQR()\n",
    "balance.callback([(0.0, 0.0, 0.0), [ 0., -0.,  0.]])"
   ]
  },
  {
   "cell_type": "markdown",
   "metadata": {},
   "source": [
    "## Video"
   ]
  },
  {
   "cell_type": "markdown",
   "metadata": {},
   "source": [
    "[Youtube Link](https://youtu.be/QmrRNw043dY)"
   ]
  },
  {
   "cell_type": "code",
   "execution_count": 6,
   "metadata": {},
   "outputs": [
    {
     "name": "stdout",
     "output_type": "stream",
     "text": [
      "----------------------------------------------------------------------------------------------------------------\n",
      "[0.]\n",
      "[1.05612611e-17]\n",
      "[2.47610156e-17]\n",
      "[4.57822189e-17]\n",
      "[7.81062314e-17]\n",
      "[1.28493165e-16]\n",
      "[2.17970717e-16]\n",
      "[-198.50226268]\n",
      "[-24025.74867895]\n",
      "[-242270.51787964]\n",
      "[-527187.0509859]\n",
      "[-1122749.13094316]\n",
      "[-1260319.43340917]\n",
      "[-930839.4256331]\n",
      "[-163714.07251238]\n",
      "[701820.60157435]\n",
      "[406398.70496017]\n",
      "[136559.51805705]\n",
      "[21451.6371444]\n",
      "[-26547.62207189]\n",
      "[-48788.92160305]\n",
      "[-61567.12976029]\n",
      "[-70914.34810615]\n",
      "[-79321.29182302]\n",
      "[-87590.47890893]\n",
      "[-95635.23784172]\n",
      "[-102749.53447665]\n",
      "[-107743.50266916]\n",
      "[-109185.15438443]\n",
      "[-105910.22746787]\n",
      "[-97767.02420405]\n",
      "[-86453.03521239]\n",
      "[-69918.22199005]\n",
      "[-53728.63866413]\n",
      "[-42579.298722]\n",
      "[-38009.18312647]\n",
      "[-38669.62596408]\n",
      "[-41834.57008398]\n",
      "[-44905.94043124]\n",
      "[-46254.07880716]\n",
      "[-45394.20833566]\n",
      "[-42742.98075228]\n",
      "[-39185.95224716]\n",
      "[-35636.2493874]\n",
      "[-32721.53613178]\n",
      "[-30668.26203591]\n",
      "[-29363.80541513]\n",
      "[-28514.01070701]\n",
      "[-27804.98390059]\n",
      "[-27010.97302062]\n",
      "[-26032.69863383]\n",
      "[-24880.46694154]\n",
      "[-23628.65121935]\n",
      "[-22366.91042605]\n",
      "[-21164.97226164]\n",
      "[-20057.21763521]\n",
      "[-19044.65479003]\n",
      "[-18097.54665391]\n",
      "[-17176.39248157]\n",
      "[-16257.66006784]\n",
      "[-15334.25456174]\n",
      "[-14410.76476095]\n",
      "[-13497.12839735]\n",
      "[-12603.32932921]\n",
      "[-11736.32237328]\n",
      "[-10899.18386776]\n",
      "[-10091.79535649]\n",
      "[-9312.19031622]\n",
      "[-8557.86702744]\n",
      "[-7826.68714902]\n",
      "[-7117.27504524]\n",
      "[-6429.02111447]\n",
      "[-5761.8615421]\n",
      "[-5115.99466979]\n",
      "[-4491.64387507]\n",
      "[-3888.9158208]\n",
      "[-3307.7525806]\n",
      "[-2747.94889309]\n",
      "[-2209.20011922]\n",
      "[-1691.15379027]\n",
      "[-1193.44938862]\n",
      "[-715.74153588]\n",
      "[-257.70857941]\n",
      "[180.9484913]\n",
      "[600.51173298]\n",
      "[1104.39894658]\n",
      "[1535.59811874]\n",
      "[1904.70849869]\n",
      "[2228.34087981]\n",
      "[2522.4333563]\n",
      "[2798.80008966]\n",
      "[3064.26750484]\n",
      "[3321.40530508]\n",
      "[3569.93298764]\n",
      "[3808.15133058]\n",
      "[4034.0487482]\n",
      "[4245.97451288]\n",
      "[4442.92372314]\n",
      "[4624.54857996]\n",
      "[4791.02021258]\n",
      "[4942.84136841]\n",
      "[5080.67444816]\n",
      "[5205.21569066]\n",
      "[5317.12155978]\n",
      "[5416.97896624]\n",
      "[5505.30521053]\n",
      "[5582.56361746]\n",
      "[5649.18396528]\n",
      "[5705.58087008]\n",
      "[5752.16695764]\n",
      "[5789.3603204]\n",
      "[5817.5872784]\n",
      "[5837.28199976]\n",
      "[5848.88441438]\n",
      "[5852.83743307]\n",
      "[5849.58404058]\n",
      "[5839.5645212]\n",
      "[5823.21393688]\n",
      "[5800.95993935]\n",
      "[5773.22096796]\n",
      "[5740.404831]\n",
      "[5702.90761133]\n",
      "[5661.11280614]\n",
      "[5615.39061951]\n",
      "[5566.09736252]\n",
      "[5513.57495533]\n",
      "[5458.15054692]\n",
      "[5400.13626239]\n",
      "[5339.8290664]\n",
      "[5277.51071202]\n",
      "[5213.44774305]\n",
      "[5147.89153602]\n",
      "[5081.07839329]\n",
      "[5013.22971384]\n",
      "[4944.55226252]\n",
      "[4875.2385356]\n",
      "[4805.46719528]\n",
      "[4735.40353418]\n",
      "[4665.19994138]\n",
      "[4594.99636575]\n",
      "[4524.92079634]\n",
      "[4455.08978605]\n",
      "[4385.60903244]\n",
      "[4316.57400461]\n",
      "[4248.07058557]\n",
      "[4180.17569648]\n",
      "[4112.9578844]\n",
      "[4046.47787677]\n",
      "[3980.78912116]\n",
      "[3915.93832644]\n",
      "[3851.96600599]\n",
      "[3788.90700498]\n",
      "[3726.79098596]\n",
      "[3665.64285533]\n",
      "[3605.48313279]\n",
      "[3546.32828494]\n",
      "[3488.19105054]\n",
      "[3431.08077335]\n"
     ]
    },
    {
     "ename": "KeyboardInterrupt",
     "evalue": "",
     "output_type": "error",
     "traceback": [
      "\u001b[0;31m---------------------------------------------------------------------------\u001b[0m",
      "\u001b[0;31mKeyboardInterrupt\u001b[0m                         Traceback (most recent call last)",
      "\u001b[0;32m<ipython-input-6-7a1797017704>\u001b[0m in \u001b[0;36m<module>\u001b[0;34m\u001b[0m\n\u001b[1;32m     45\u001b[0m     \u001b[0mp\u001b[0m\u001b[0;34m.\u001b[0m\u001b[0msetJointMotorControl2\u001b[0m\u001b[0;34m(\u001b[0m\u001b[0mrobot\u001b[0m\u001b[0;34m,\u001b[0m \u001b[0mright_joint\u001b[0m \u001b[0;34m,\u001b[0m \u001b[0mp\u001b[0m\u001b[0;34m.\u001b[0m\u001b[0mVELOCITY_CONTROL\u001b[0m\u001b[0;34m,\u001b[0m \u001b[0mtargetVelocity\u001b[0m \u001b[0;34m=\u001b[0m \u001b[0;34m-\u001b[0m\u001b[0mvel\u001b[0m\u001b[0;34m)\u001b[0m\u001b[0;34m\u001b[0m\u001b[0;34m\u001b[0m\u001b[0m\n\u001b[1;32m     46\u001b[0m     \u001b[0mp\u001b[0m\u001b[0;34m.\u001b[0m\u001b[0mstepSimulation\u001b[0m\u001b[0;34m(\u001b[0m\u001b[0;34m)\u001b[0m\u001b[0;34m\u001b[0m\u001b[0;34m\u001b[0m\u001b[0m\n\u001b[0;32m---> 47\u001b[0;31m     \u001b[0mtime\u001b[0m\u001b[0;34m.\u001b[0m\u001b[0msleep\u001b[0m\u001b[0;34m(\u001b[0m\u001b[0;36m0.1\u001b[0m\u001b[0;34m)\u001b[0m\u001b[0;34m\u001b[0m\u001b[0;34m\u001b[0m\u001b[0m\n\u001b[0m",
      "\u001b[0;31mKeyboardInterrupt\u001b[0m: "
     ]
    }
   ],
   "source": [
    "id = p.connect(p.GUI)\n",
    "p.setAdditionalSearchPath(pybullet_data.getDataPath())\n",
    "plane = p.loadURDF(\"plane.urdf\")\n",
    "p.setGravity(0, 0, -9.8)\n",
    "\n",
    "robot = p.loadURDF(\"../urdf/self_balance.urdf\" , [0,0,0.2])\n",
    "\n",
    "# num = p.getNumJoints(robot)\n",
    "# for i in range(num):\n",
    "#     info = p.getJointInfo(robot, i)\n",
    "#     print(info,end=\"\\n\")\n",
    "#     link_name = info[12].decode(\"ascii\")\n",
    "#     if link_name == \"left_wheel\": left_wheel = j\n",
    "#     if link_name == \"right_wheel\": wheel_foot = j\n",
    "left_joint=0\n",
    "right_joint=1\n",
    "\n",
    "print(\"----------------------------------------------------------------------------------------------------------------\")\n",
    "# print(\"Dynamic Info of Base : \",p.getDynamicsInfo(robot, -1),end=\"\\n\")\n",
    "# #0->mass , 3->local inertial pos\n",
    "# print(\"Base position and Orientation : \" , p.getBasePositionAndOrientation(robot),end=\"\\n\")\n",
    "# #1->orientation\n",
    "\n",
    "# com = p.getDynamicsInfo(robot, -1)[3][2]\n",
    "# com += p.getBasePositionAndOrientation(robot)[0][2] \n",
    "# print(\"Centre of mass - \", com)\n",
    "\n",
    "#information required yaw\n",
    "#imu sensor , kp ,ki ,kd\n",
    "#set cmd_vel \n",
    "\n",
    "balance=SelfBalanceLQR()\n",
    "while(True):\n",
    "    position,orientation=p.getBasePositionAndOrientation(robot)\n",
    "    euler_angles=np.array(p.getEulerFromQuaternion(orientation))#1->orientation\n",
    "    deg_orien=euler_angles*180/np.pi\n",
    "    #print(deg_orien)\n",
    "    theta=deg_orien[1]\n",
    "    #pos=position[0]\n",
    "    velocity,angular=p.getBaseVelocity(robot)\n",
    "    #print([velocity,euler_angles])\n",
    "    vel=balance.callback([velocity,euler_angles])\n",
    "    print(vel)\n",
    "    p.setJointMotorControl2(robot, left_joint , p.VELOCITY_CONTROL, targetVelocity = vel)\n",
    "    p.setJointMotorControl2(robot, right_joint , p.VELOCITY_CONTROL, targetVelocity = -vel)\n",
    "    p.stepSimulation()\n",
    "    time.sleep(0.1)"
   ]
  },
  {
   "cell_type": "markdown",
   "metadata": {},
   "source": [
    "## Conclusion"
   ]
  },
  {
   "cell_type": "markdown",
   "metadata": {},
   "source": [
    "In this project , I have tested three famous controllers on Self Balancing Robot Simulation. I am planning to work on other controllers as well, like Fuzzy PID, Adaptive Fuzzy, Neural Network, Sliding motion controller etc. I also intend to work on other control system problems as well. Control System is fun! Please contact me for any confusions or bugs. \n",
    "\n",
    "#### MD Muhaimin Rahman\n"
   ]
  },
  {
   "cell_type": "markdown",
   "metadata": {},
   "source": [
    "# Reference"
   ]
  },
  {
   "cell_type": "markdown",
   "metadata": {},
   "source": [
    "<a id =\"pid\"></a>\n",
    "[1] PyQuadSim [Repository](https://github.com/simondlevy/PyQuadSim/blob/master/pidcontrol.py)\n",
    "<br/>\n",
    "<a id =\"fuzzy\"></a>\n",
    "[2] Scikit-fuzzy DOI link 10.5281/zenodo.1002946\n",
    "<br/>\n",
    "<a id =\"PythonControl\"></a>\n",
    "[3] Python Control Package , [link](https://python-control.readthedocs.io/en/latest/)\n",
    "<br/>\n",
    "<a id =\"SystemEquation\"></a>\n",
    "[4] Control System Tutorials , [link](http://ctms.engin.umich.edu/CTMS/index.php?example=InvertedPendulum&section=SystemModeling)\n",
    "https://automaticaddison.com/linear-quadratic-regulator-lqr-with-python-code-example/\n"
   ]
  },
  {
   "cell_type": "code",
   "execution_count": null,
   "metadata": {},
   "outputs": [],
   "source": []
  }
 ],
 "metadata": {
  "kernelspec": {
   "display_name": "Python 3",
   "language": "python",
   "name": "python3"
  },
  "language_info": {
   "codemirror_mode": {
    "name": "ipython",
    "version": 3
   },
   "file_extension": ".py",
   "mimetype": "text/x-python",
   "name": "python",
   "nbconvert_exporter": "python",
   "pygments_lexer": "ipython3",
   "version": "3.8.10"
  }
 },
 "nbformat": 4,
 "nbformat_minor": 2
}
